{
 "cells": [
  {
   "cell_type": "code",
   "execution_count": 25,
   "id": "9687a202",
   "metadata": {},
   "outputs": [],
   "source": [
    "import sys"
   ]
  },
  {
   "cell_type": "code",
   "execution_count": 40,
   "id": "d958421c",
   "metadata": {},
   "outputs": [],
   "source": [
    "sys.path.insert(0, 'C://Users//SumeetMitra//OneDrive - Tata Insights and Quants//december//project 3 number plate//yolov5//utils')\n",
    "from datasets import letterbox\n",
    "from general import non_max_suppression, check_img_size, scale_coords\n",
    "sys.path.insert(0, 'C://Users//SumeetMitra//OneDrive - Tata Insights and Quants//december//project 3 number plate//yolov5//models')\n",
    "from experimental import attempt_load"
   ]
  },
  {
   "cell_type": "code",
   "execution_count": 38,
   "id": "d923d84c",
   "metadata": {},
   "outputs": [
    {
     "ename": "ModuleNotFoundError",
     "evalue": "No module named 'utils.datasets'",
     "output_type": "error",
     "traceback": [
      "\u001b[1;31m---------------------------------------------------------------------------\u001b[0m",
      "\u001b[1;31mModuleNotFoundError\u001b[0m                       Traceback (most recent call last)",
      "\u001b[1;32m~\\AppData\\Local\\Temp\\ipykernel_23800\\3565848195.py\u001b[0m in \u001b[0;36m<module>\u001b[1;34m\u001b[0m\n\u001b[1;32m----> 1\u001b[1;33m \u001b[1;32mfrom\u001b[0m \u001b[0mutils\u001b[0m\u001b[1;33m.\u001b[0m\u001b[0mdatasets\u001b[0m \u001b[1;32mimport\u001b[0m \u001b[0mletterbox\u001b[0m\u001b[1;33m\u001b[0m\u001b[1;33m\u001b[0m\u001b[0m\n\u001b[0m\u001b[0;32m      2\u001b[0m \u001b[1;32mfrom\u001b[0m \u001b[0mmodels\u001b[0m\u001b[1;33m.\u001b[0m\u001b[0mexperimental\u001b[0m \u001b[1;32mimport\u001b[0m \u001b[0mattempt_load\u001b[0m\u001b[1;33m\u001b[0m\u001b[1;33m\u001b[0m\u001b[0m\n\u001b[0;32m      3\u001b[0m \u001b[1;32mfrom\u001b[0m \u001b[0mutils\u001b[0m\u001b[1;33m.\u001b[0m\u001b[0mgeneral\u001b[0m \u001b[1;32mimport\u001b[0m \u001b[0mnon_max_suppression\u001b[0m\u001b[1;33m,\u001b[0m \u001b[0mcheck_img_size\u001b[0m\u001b[1;33m,\u001b[0m \u001b[0mscale_coords\u001b[0m\u001b[1;33m\u001b[0m\u001b[1;33m\u001b[0m\u001b[0m\n",
      "\u001b[1;31mModuleNotFoundError\u001b[0m: No module named 'utils.datasets'"
     ]
    }
   ],
   "source": [
    "from utils.datasets import letterbox\n",
    "from models.experimental import attempt_load\n",
    "from utils.general import non_max_suppression, check_img_size, scale_coords"
   ]
  },
  {
   "cell_type": "code",
   "execution_count": 62,
   "id": "eb992a18",
   "metadata": {},
   "outputs": [],
   "source": [
    "import os\n",
    "import xml.etree.ElementTree as ET\n",
    "import glob\n",
    "import pandas as pd\n",
    "import cv2\n",
    "path = 'D://december//SSS_Sumeet_29-44'\n",
    "files_xml = glob.glob(path+'//*.xml')\n",
    "files_images = glob.glob(path+'//*')\n",
    "files_images = [x for x in files_images if not x.endswith('.xml')]"
   ]
  },
  {
   "cell_type": "code",
   "execution_count": 64,
   "id": "9cb68724",
   "metadata": {},
   "outputs": [],
   "source": [
    "df = pd.DataFrame(columns=['Image_name','Class_name','x_min','y_min','x_max','y_max','Height','Width'])\n",
    "for file in files_images:\n",
    "    img = cv2.imread(file)\n",
    "    img_name = os.path.basename(file)\n",
    "    r,c,ch = img.shape\n",
    "    xml_path = str(file.split('.')[0]+'.xml')\n",
    "    if os.path.exists(xml_path):\n",
    "        tree = ET.parse(xml_path)\n",
    "        root = tree.getroot()\n",
    "        for member in root.findall('object'):\n",
    "            class_name = member[0].text\n",
    "            xmin = int(member[4][0].text)\n",
    "            ymin = int(member[4][1].text)\n",
    "            xmax = int(member[4][2].text)\n",
    "            ymax = int(member[4][3].text)\n",
    "            df2 = pd.DataFrame([[img_name,class_name,xmin,ymin,xmax,ymax,r,c]],columns=df.columns)\n",
    "            df = pd.concat([df,df2],ignore_index=True)"
   ]
  },
  {
   "cell_type": "code",
   "execution_count": 65,
   "id": "9c1dd5c4",
   "metadata": {},
   "outputs": [
    {
     "data": {
      "text/html": [
       "<div>\n",
       "<style scoped>\n",
       "    .dataframe tbody tr th:only-of-type {\n",
       "        vertical-align: middle;\n",
       "    }\n",
       "\n",
       "    .dataframe tbody tr th {\n",
       "        vertical-align: top;\n",
       "    }\n",
       "\n",
       "    .dataframe thead th {\n",
       "        text-align: right;\n",
       "    }\n",
       "</style>\n",
       "<table border=\"1\" class=\"dataframe\">\n",
       "  <thead>\n",
       "    <tr style=\"text-align: right;\">\n",
       "      <th></th>\n",
       "      <th>Image_name</th>\n",
       "      <th>Class_name</th>\n",
       "      <th>x_min</th>\n",
       "      <th>y_min</th>\n",
       "      <th>x_max</th>\n",
       "      <th>y_max</th>\n",
       "      <th>Height</th>\n",
       "      <th>Width</th>\n",
       "    </tr>\n",
       "  </thead>\n",
       "  <tbody>\n",
       "    <tr>\n",
       "      <th>0</th>\n",
       "      <td>15_00_00.jpg</td>\n",
       "      <td>rod</td>\n",
       "      <td>29</td>\n",
       "      <td>2</td>\n",
       "      <td>270</td>\n",
       "      <td>1021</td>\n",
       "      <td>1024</td>\n",
       "      <td>400</td>\n",
       "    </tr>\n",
       "    <tr>\n",
       "      <th>1</th>\n",
       "      <td>15_00_00.jpg</td>\n",
       "      <td>midrib</td>\n",
       "      <td>113</td>\n",
       "      <td>3</td>\n",
       "      <td>156</td>\n",
       "      <td>1024</td>\n",
       "      <td>1024</td>\n",
       "      <td>400</td>\n",
       "    </tr>\n",
       "    <tr>\n",
       "      <th>2</th>\n",
       "      <td>15_00_01.jpg</td>\n",
       "      <td>rod</td>\n",
       "      <td>24</td>\n",
       "      <td>3</td>\n",
       "      <td>271</td>\n",
       "      <td>1022</td>\n",
       "      <td>1024</td>\n",
       "      <td>400</td>\n",
       "    </tr>\n",
       "    <tr>\n",
       "      <th>3</th>\n",
       "      <td>15_00_01.jpg</td>\n",
       "      <td>midrib</td>\n",
       "      <td>116</td>\n",
       "      <td>7</td>\n",
       "      <td>166</td>\n",
       "      <td>1022</td>\n",
       "      <td>1024</td>\n",
       "      <td>400</td>\n",
       "    </tr>\n",
       "  </tbody>\n",
       "</table>\n",
       "</div>"
      ],
      "text/plain": [
       "     Image_name Class_name x_min y_min x_max y_max Height Width\n",
       "0  15_00_00.jpg        rod    29     2   270  1021   1024   400\n",
       "1  15_00_00.jpg     midrib   113     3   156  1024   1024   400\n",
       "2  15_00_01.jpg        rod    24     3   271  1022   1024   400\n",
       "3  15_00_01.jpg     midrib   116     7   166  1022   1024   400"
      ]
     },
     "execution_count": 65,
     "metadata": {},
     "output_type": "execute_result"
    }
   ],
   "source": [
    "df"
   ]
  },
  {
   "cell_type": "code",
   "execution_count": 52,
   "id": "b0015c07",
   "metadata": {},
   "outputs": [],
   "source": [
    "for file in files_images:\n",
    "    str(file.split('.')[0]+'.xml')"
   ]
  },
  {
   "cell_type": "code",
   "execution_count": 31,
   "id": "37c617fd",
   "metadata": {},
   "outputs": [],
   "source": [
    "import glob\n",
    "import cv2\n",
    "files = glob.glob(r'C:\\Users\\SumeetMitra\\OneDrive - Tata Insights and Quants\\Learning\\yolov5\\runs\\detect\\yol0_test2\\*.png')"
   ]
  },
  {
   "cell_type": "code",
   "execution_count": 32,
   "id": "2472a313",
   "metadata": {},
   "outputs": [],
   "source": [
    "for file in files:\n",
    "    img = cv2.imread(file)\n",
    "    cv2.imshow('window_name', img)\n",
    "    k = cv2.waitKey(50)\n",
    "    if k == 27:\n",
    "        break\n",
    "cv2.destroyAllWindows()"
   ]
  },
  {
   "cell_type": "code",
   "execution_count": 84,
   "id": "2dfb7d12",
   "metadata": {},
   "outputs": [],
   "source": [
    "f = open('C://Program Files//MySQL//MySQL Server 8.0//bin//mysqld.exe', 'rb')\n",
    "h = open('file2.txt', \"w\")"
   ]
  },
  {
   "cell_type": "code",
   "execution_count": 81,
   "id": "835f0f17",
   "metadata": {},
   "outputs": [
    {
     "ename": "UnicodeDecodeError",
     "evalue": "'ascii' codec can't decode byte 0x90 in position 2: ordinal not in range(128)",
     "output_type": "error",
     "traceback": [
      "\u001b[1;31m---------------------------------------------------------------------------\u001b[0m",
      "\u001b[1;31mUnicodeDecodeError\u001b[0m                        Traceback (most recent call last)",
      "\u001b[1;32m~\\AppData\\Local\\Temp\\ipykernel_23800\\2698408239.py\u001b[0m in \u001b[0;36m<module>\u001b[1;34m\u001b[0m\n\u001b[0;32m      1\u001b[0m \u001b[0mdata\u001b[0m \u001b[1;33m=\u001b[0m \u001b[0mf\u001b[0m\u001b[1;33m.\u001b[0m\u001b[0mread\u001b[0m\u001b[1;33m(\u001b[0m\u001b[1;33m)\u001b[0m\u001b[1;33m\u001b[0m\u001b[1;33m\u001b[0m\u001b[0m\n\u001b[1;32m----> 2\u001b[1;33m \u001b[0mh\u001b[0m\u001b[1;33m.\u001b[0m\u001b[0mwrite\u001b[0m\u001b[1;33m(\u001b[0m\u001b[0mdata\u001b[0m\u001b[1;33m.\u001b[0m\u001b[0mdecode\u001b[0m\u001b[1;33m(\u001b[0m\u001b[1;34m'ascii'\u001b[0m\u001b[1;33m)\u001b[0m\u001b[1;33m)\u001b[0m\u001b[1;33m\u001b[0m\u001b[1;33m\u001b[0m\u001b[0m\n\u001b[0m",
      "\u001b[1;31mUnicodeDecodeError\u001b[0m: 'ascii' codec can't decode byte 0x90 in position 2: ordinal not in range(128)"
     ]
    }
   ],
   "source": [
    "data = f.read()\n",
    "h.write(data.decode('ascii'))"
   ]
  },
  {
   "cell_type": "code",
   "execution_count": 95,
   "id": "36902d6d",
   "metadata": {},
   "outputs": [
    {
     "ename": "UnicodeDecodeError",
     "evalue": "'utf-8' codec can't decode byte 0x90 in position 2: invalid start byte",
     "output_type": "error",
     "traceback": [
      "\u001b[1;31m---------------------------------------------------------------------------\u001b[0m",
      "\u001b[1;31mUnicodeDecodeError\u001b[0m                        Traceback (most recent call last)",
      "\u001b[1;32m~\\AppData\\Local\\Temp\\ipykernel_23800\\1719500334.py\u001b[0m in \u001b[0;36m<module>\u001b[1;34m\u001b[0m\n\u001b[0;32m      1\u001b[0m \u001b[1;32mimport\u001b[0m \u001b[0mcodecs\u001b[0m\u001b[1;33m\u001b[0m\u001b[1;33m\u001b[0m\u001b[0m\n\u001b[0;32m      2\u001b[0m \u001b[1;32mwith\u001b[0m \u001b[0mcodecs\u001b[0m\u001b[1;33m.\u001b[0m\u001b[0mopen\u001b[0m\u001b[1;33m(\u001b[0m\u001b[1;34m'C://Program Files//MySQL//MySQL Server 8.0//bin//mysqld.exe'\u001b[0m\u001b[1;33m,\u001b[0m \u001b[0mencoding\u001b[0m\u001b[1;33m=\u001b[0m\u001b[1;34m'utf_8'\u001b[0m\u001b[1;33m)\u001b[0m \u001b[1;32mas\u001b[0m \u001b[0mhandle\u001b[0m\u001b[1;33m:\u001b[0m\u001b[1;33m\u001b[0m\u001b[1;33m\u001b[0m\u001b[0m\n\u001b[1;32m----> 3\u001b[1;33m     \u001b[0mdata\u001b[0m \u001b[1;33m=\u001b[0m \u001b[0mhandle\u001b[0m\u001b[1;33m.\u001b[0m\u001b[0mread\u001b[0m\u001b[1;33m(\u001b[0m\u001b[1;33m)\u001b[0m\u001b[1;33m\u001b[0m\u001b[1;33m\u001b[0m\u001b[0m\n\u001b[0m\u001b[0;32m      4\u001b[0m     \u001b[0mh\u001b[0m\u001b[1;33m.\u001b[0m\u001b[0mwrite\u001b[0m\u001b[1;33m(\u001b[0m\u001b[0mdata\u001b[0m\u001b[1;33m)\u001b[0m\u001b[1;33m\u001b[0m\u001b[1;33m\u001b[0m\u001b[0m\n",
      "\u001b[1;32md:\\ProgramData\\Anaconda3\\lib\\codecs.py\u001b[0m in \u001b[0;36mread\u001b[1;34m(self, size)\u001b[0m\n\u001b[0;32m    699\u001b[0m     \u001b[1;32mdef\u001b[0m \u001b[0mread\u001b[0m\u001b[1;33m(\u001b[0m\u001b[0mself\u001b[0m\u001b[1;33m,\u001b[0m \u001b[0msize\u001b[0m\u001b[1;33m=\u001b[0m\u001b[1;33m-\u001b[0m\u001b[1;36m1\u001b[0m\u001b[1;33m)\u001b[0m\u001b[1;33m:\u001b[0m\u001b[1;33m\u001b[0m\u001b[1;33m\u001b[0m\u001b[0m\n\u001b[0;32m    700\u001b[0m \u001b[1;33m\u001b[0m\u001b[0m\n\u001b[1;32m--> 701\u001b[1;33m         \u001b[1;32mreturn\u001b[0m \u001b[0mself\u001b[0m\u001b[1;33m.\u001b[0m\u001b[0mreader\u001b[0m\u001b[1;33m.\u001b[0m\u001b[0mread\u001b[0m\u001b[1;33m(\u001b[0m\u001b[0msize\u001b[0m\u001b[1;33m)\u001b[0m\u001b[1;33m\u001b[0m\u001b[1;33m\u001b[0m\u001b[0m\n\u001b[0m\u001b[0;32m    702\u001b[0m \u001b[1;33m\u001b[0m\u001b[0m\n\u001b[0;32m    703\u001b[0m     \u001b[1;32mdef\u001b[0m \u001b[0mreadline\u001b[0m\u001b[1;33m(\u001b[0m\u001b[0mself\u001b[0m\u001b[1;33m,\u001b[0m \u001b[0msize\u001b[0m\u001b[1;33m=\u001b[0m\u001b[1;32mNone\u001b[0m\u001b[1;33m)\u001b[0m\u001b[1;33m:\u001b[0m\u001b[1;33m\u001b[0m\u001b[1;33m\u001b[0m\u001b[0m\n",
      "\u001b[1;32md:\\ProgramData\\Anaconda3\\lib\\codecs.py\u001b[0m in \u001b[0;36mread\u001b[1;34m(self, size, chars, firstline)\u001b[0m\n\u001b[0;32m    502\u001b[0m                 \u001b[1;32mbreak\u001b[0m\u001b[1;33m\u001b[0m\u001b[1;33m\u001b[0m\u001b[0m\n\u001b[0;32m    503\u001b[0m             \u001b[1;32mtry\u001b[0m\u001b[1;33m:\u001b[0m\u001b[1;33m\u001b[0m\u001b[1;33m\u001b[0m\u001b[0m\n\u001b[1;32m--> 504\u001b[1;33m                 \u001b[0mnewchars\u001b[0m\u001b[1;33m,\u001b[0m \u001b[0mdecodedbytes\u001b[0m \u001b[1;33m=\u001b[0m \u001b[0mself\u001b[0m\u001b[1;33m.\u001b[0m\u001b[0mdecode\u001b[0m\u001b[1;33m(\u001b[0m\u001b[0mdata\u001b[0m\u001b[1;33m,\u001b[0m \u001b[0mself\u001b[0m\u001b[1;33m.\u001b[0m\u001b[0merrors\u001b[0m\u001b[1;33m)\u001b[0m\u001b[1;33m\u001b[0m\u001b[1;33m\u001b[0m\u001b[0m\n\u001b[0m\u001b[0;32m    505\u001b[0m             \u001b[1;32mexcept\u001b[0m \u001b[0mUnicodeDecodeError\u001b[0m \u001b[1;32mas\u001b[0m \u001b[0mexc\u001b[0m\u001b[1;33m:\u001b[0m\u001b[1;33m\u001b[0m\u001b[1;33m\u001b[0m\u001b[0m\n\u001b[0;32m    506\u001b[0m                 \u001b[1;32mif\u001b[0m \u001b[0mfirstline\u001b[0m\u001b[1;33m:\u001b[0m\u001b[1;33m\u001b[0m\u001b[1;33m\u001b[0m\u001b[0m\n",
      "\u001b[1;31mUnicodeDecodeError\u001b[0m: 'utf-8' codec can't decode byte 0x90 in position 2: invalid start byte"
     ]
    }
   ],
   "source": [
    "import codecs\n",
    "with codecs.open('C://Program Files//MySQL//MySQL Server 8.0//bin//mysqld.exe', encoding='utf_8') as handle:\n",
    "    data = handle.read()\n",
    "    h.write(data)"
   ]
  },
  {
   "cell_type": "code",
   "execution_count": null,
   "id": "93661053",
   "metadata": {},
   "outputs": [],
   "source": []
  },
  {
   "cell_type": "code",
   "execution_count": 119,
   "id": "7110f713",
   "metadata": {},
   "outputs": [],
   "source": [
    "h = open('file2.txt', \"w\")\n",
    "lst = []\n",
    "with open('file.txt', \"r\") as text_file:\n",
    "    for text_lines in text_file.readlines():\n",
    "        lst.append(text_lines.split('x'))\n",
    "    "
   ]
  },
  {
   "cell_type": "code",
   "execution_count": 121,
   "id": "60bb12f0",
   "metadata": {},
   "outputs": [],
   "source": [
    "lst2 = []\n",
    "for i in lst:\n",
    "    for j in i:\n",
    "        if len(j) > 8:\n",
    "            lst2.append(j)"
   ]
  },
  {
   "cell_type": "code",
   "execution_count": 129,
   "id": "3fe44bbb",
   "metadata": {},
   "outputs": [],
   "source": [
    "lst3 = [] \n",
    "for y in lst2:\n",
    "    if 'password' in y:\n",
    "        lst3.append(y)"
   ]
  },
  {
   "cell_type": "code",
   "execution_count": 130,
   "id": "2a8576cb",
   "metadata": {},
   "outputs": [],
   "source": [
    "df = pd.DataFrame(lst3)\n",
    "df.to_csv('password2.csv')"
   ]
  },
  {
   "cell_type": "code",
   "execution_count": 131,
   "id": "a58266e2",
   "metadata": {},
   "outputs": [
    {
     "data": {
      "text/plain": [
       "415"
      ]
     },
     "execution_count": 131,
     "metadata": {},
     "output_type": "execute_result"
    }
   ],
   "source": [
    "len(lst3)"
   ]
  },
  {
   "cell_type": "code",
   "execution_count": 76,
   "id": "7cd1ee64",
   "metadata": {},
   "outputs": [
    {
     "data": {
      "text/plain": [
       "143103170"
      ]
     },
     "execution_count": 76,
     "metadata": {},
     "output_type": "execute_result"
    }
   ],
   "source": [
    "h.write(str(f.read()))"
   ]
  },
  {
   "cell_type": "code",
   "execution_count": 87,
   "id": "e638f58e",
   "metadata": {},
   "outputs": [],
   "source": [
    "def test(a,b):\n",
    "    c = a-b\n",
    "    d = a+b\n",
    "    return c,d"
   ]
  },
  {
   "cell_type": "code",
   "execution_count": 93,
   "id": "10e20111",
   "metadata": {},
   "outputs": [],
   "source": [
    "q = test(2,3)"
   ]
  },
  {
   "cell_type": "code",
   "execution_count": 94,
   "id": "736179c3",
   "metadata": {},
   "outputs": [
    {
     "name": "stdout",
     "output_type": "stream",
     "text": [
      "(-1, 5)\n"
     ]
    }
   ],
   "source": [
    "print(q)"
   ]
  },
  {
   "cell_type": "code",
   "execution_count": null,
   "id": "ad08a20e",
   "metadata": {},
   "outputs": [],
   "source": []
  },
  {
   "cell_type": "code",
   "execution_count": null,
   "id": "14deefde",
   "metadata": {},
   "outputs": [],
   "source": [
    "\n",
    "for file in glob.glob(args.path+\"//*//*//*//**\")+glob.glob(args.path+\"//*//*//**\")+glob.glob(args.path+\"//*//**\")+glob.glob(args.path+\"//**\"):\n",
    "    if file.contains(args.form):\n",
    "        print(file)"
   ]
  }
 ],
 "metadata": {
  "kernelspec": {
   "display_name": "Python 3 (ipykernel)",
   "language": "python",
   "name": "python3"
  },
  "language_info": {
   "codemirror_mode": {
    "name": "ipython",
    "version": 3
   },
   "file_extension": ".py",
   "mimetype": "text/x-python",
   "name": "python",
   "nbconvert_exporter": "python",
   "pygments_lexer": "ipython3",
   "version": "3.9.13"
  }
 },
 "nbformat": 4,
 "nbformat_minor": 5
}
